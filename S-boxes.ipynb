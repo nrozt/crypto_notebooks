{
 "cells": [
  {
   "cell_type": "code",
   "execution_count": 62,
   "metadata": {
    "collapsed": false
   },
   "outputs": [],
   "source": [
    "import numpy as np\n",
    "\n",
    "def get_ddt(sbox):\n",
    "    size = len(sbox)\n",
    "    ddt = np.array([[0]*size]*size)\n",
    "    for x in range(size):\n",
    "        for a in range(size):\n",
    "            b = sbox[x ^ a] ^ sbox[x]\n",
    "            ddt[a, b] += 1\n",
    "    return ddt\n",
    "\n",
    "sboxes = {\n",
    "'PRESENT':\t[0xC, 5, 6, 0xB, 9, 0, 0xA, 0xD, 3, 0xE, 0xF, 8, 4, 7, 1, 2],\n",
    "'Midori':\t[0xC, 0xA, 0xD, 3, 0xE, 0xB, 0xF, 7, 8, 9, 1, 5, 0, 2, 4, 6],\n",
    "'GIFT':\t\t[1, 0xA, 4, 0xC, 6, 0xF, 3, 9, 2, 0xD, 0xB, 7, 5, 0, 8, 0xE],\n",
    "'SKINNY1':\t[0xC, 6, 9, 0, 1, 0xA, 2, 0xB, 3, 8, 5, 0xD, 4, 0xE, 7, 0xF],\n",
    "'SKINNY2':\t[3, 4, 6, 8, 0xC, 0xA, 1, 0xE, 9, 2, 5, 7, 0, 0xB, 0xD, 0xF],\n",
    "'LILLIPUT':\t[4, 8, 7, 1, 9, 3, 2, 0xE, 0, 0xB, 3, 0xF, 0xA, 5, 0xD, 0xC],\n",
    "#'Ex': [2, 6, 1, 7, 3, 0, 4, 5]\n",
    "}\n",
    "\n",
    "#get_ddt(sboxes['Ex'])"
   ]
  },
  {
   "cell_type": "code",
   "execution_count": 1,
   "metadata": {
    "collapsed": false
   },
   "outputs": [
    {
     "data": {
      "text/plain": [
       "sys.version_info(major=3, minor=4, micro=4, releaselevel='final', serial=0)"
      ]
     },
     "execution_count": 1,
     "metadata": {},
     "output_type": "execute_result"
    }
   ],
   "source": [
    "from sys import version_info\n",
    "version_info"
   ]
  },
  {
   "cell_type": "code",
   "execution_count": 2,
   "metadata": {
    "collapsed": true,
    "scrolled": true
   },
   "outputs": [],
   "source": [
    "import numpy as np"
   ]
  },
  {
   "cell_type": "code",
   "execution_count": 3,
   "metadata": {
    "collapsed": false
   },
   "outputs": [
    {
     "data": {
      "text/plain": [
       "4"
      ]
     },
     "execution_count": 3,
     "metadata": {},
     "output_type": "execute_result"
    }
   ],
   "source": [
    "present = [0xC, 5, 6, 0xB, 9, 0, 0xA, 0xD, 3, 0xE, 0xF, 8, 4, 7, 1, 2]\n",
    "midori  = [0xC, 0xA, 0xD, 3, 0xE, 0xB, 0xF, 7, 8, 9, 1, 5, 0, 2, 4, 6]\n",
    "gift    = [1, 0xA, 4, 0xC, 6, 0xF, 3, 9, 2, 0xD, 0xB, 7, 5, 0, 8, 0xE]\n",
    "present[12]"
   ]
  },
  {
   "cell_type": "code",
   "execution_count": 58,
   "metadata": {
    "collapsed": false,
    "scrolled": false
   },
   "outputs": [
    {
     "name": "stdout",
     "output_type": "stream",
     "text": [
      "[[16  0  0  0  0  0  0  0  0  0  0  0  0  0  0  0]\n",
      " [ 0  2  4  0  2  2  2  0  2  0  0  0  0  0  2  0]\n",
      " [ 0  4  0  0  4  0  0  0  0  4  0  0  4  0  0  0]\n",
      " [ 0  0  0  0  2  0  4  2  2  2  0  0  0  2  0  2]\n",
      " [ 0  2  4  2  2  2  0  0  2  0  0  2  0  0  0  0]\n",
      " [ 0  2  0  0  2  0  0  4  0  2  4  0  2  0  0  0]\n",
      " [ 0  2  0  4  0  0  0  2  2  0  0  0  2  2  0  2]\n",
      " [ 0  0  0  2  0  4  2  0  0  0  0  2  0  4  2  0]\n",
      " [ 0  2  0  2  2  0  2  0  0  2  0  2  2  0  2  0]\n",
      " [ 0  0  4  2  0  2  0  0  2  2  0  2  2  0  0  0]\n",
      " [ 0  0  0  0  0  4  0  0  0  0  4  0  0  4  0  4]\n",
      " [ 0  0  0  0  2  0  0  2  2  2  0  4  0  2  0  2]\n",
      " [ 0  0  4  0  0  2  2  0  2  2  0  0  2  0  2  0]\n",
      " [ 0  0  0  2  0  0  2  4  0  0  4  2  0  0  2  0]\n",
      " [ 0  2  0  0  0  0  0  2  2  0  0  0  2  2  4  2]\n",
      " [ 0  0  0  2  0  0  2  0  0  0  4  2  0  0  2  4]] \n",
      "\n",
      "\n"
     ]
    }
   ],
   "source": [
    "def get_ddt(sbox):\n",
    "    size = len(sbox)\n",
    "    ddt = np.array([[0]*size]*size)\n",
    "    for x in range(size):\n",
    "        for a in range(size):\n",
    "            b = sbox[x ^ a] ^ sbox[x]\n",
    "            ddt[a, b] += 1\n",
    "    return ddt\n",
    "\n",
    "print(get_ddt(midori), '\\n\\n')#.max() / 2^16"
   ]
  },
  {
   "cell_type": "code",
   "execution_count": 6,
   "metadata": {
    "collapsed": true
   },
   "outputs": [],
   "source": [
    "def get_linear(param):\n",
    "    masks = [0b1000, 0b0100, 0b0010, 0b0001]\n",
    "    p = param\n",
    "    return lambda x:((x&p&masks[0])>>3)^((x&p&masks[1])>>2)^((x&p&masks[2])>>1)^x&p&masks[3]\n",
    "    \n",
    "linears = {x: get_linear(x) for x in range(16)} "
   ]
  },
  {
   "cell_type": "code",
   "execution_count": 7,
   "metadata": {
    "collapsed": false,
    "scrolled": true
   },
   "outputs": [
    {
     "data": {
      "text/plain": [
       "8"
      ]
     },
     "execution_count": 7,
     "metadata": {},
     "output_type": "execute_result"
    }
   ],
   "source": [
    "masks = [0b1000, 0b0100, 0b0010, 0b0001]\n",
    "def linear(x, param):\n",
    "    return ((x&param&masks[0]) >> 3) ^ ((x&param&masks[1]) >> 2) ^ ((x&param&masks[2]) >> 1) ^ x&param&masks[3]\n",
    "\n",
    "def correlations(f1, f2):\n",
    "    out1 = int(''.join(['{}'.format(f1(x)) for x in range(16)]), 2)\n",
    "    out2 = int(''.join(['{}'.format(f2(x)) for x in range(16)]), 2)\n",
    "    return 16 - bin(out1 ^ out2).count('1') #2**(1-n)*ret - 1\n",
    "\n",
    "correlations(linears[10], linears[0])"
   ]
  },
  {
   "cell_type": "code",
   "execution_count": 8,
   "metadata": {
    "collapsed": false
   },
   "outputs": [
    {
     "data": {
      "text/plain": [
       "array([[ 8,  0,  0,  0,  0,  0,  0,  0,  0,  0,  0,  0,  0,  0,  0,  0],\n",
       "       [ 0,  0,  0,  0,  2, -2, -2,  2,  4,  0,  0, -4, -2, -2, -2, -2],\n",
       "       [ 0,  0,  0, -4,  0,  4,  0,  0,  2,  2,  2, -2,  2, -2,  2,  2],\n",
       "       [ 0,  0,  0, -4, -2, -2,  2, -2,  2, -2, -2, -2,  0,  4,  0,  0],\n",
       "       [ 0,  0,  0,  0,  0,  0, -4, -4,  0,  0,  0,  0,  0,  0,  4, -4],\n",
       "       [ 0,  0,  0,  0,  2, -2,  2, -2,  0,  4,  4,  0,  2,  2, -2, -2],\n",
       "       [ 0,  0,  0, -4,  4,  0,  0,  0, -2, -2, -2,  2,  2, -2, -2, -2],\n",
       "       [ 0,  0,  0,  4,  2,  2,  2, -2,  2, -2, -2, -2,  4,  0,  0,  0],\n",
       "       [ 0,  0,  0,  0,  0, -4,  0, -4,  0,  0,  0,  0,  0, -4,  0,  4],\n",
       "       [ 0,  0,  0,  0, -2, -2,  2,  2,  4,  0,  0,  4,  2, -2,  2, -2],\n",
       "       [ 0,  0, -4,  0,  0,  0,  4,  0, -2, -2,  2, -2, -2, -2,  2, -2],\n",
       "       [ 0,  0,  4,  0,  2, -2,  2,  2, -2,  2, -2, -2,  0,  0,  4,  0],\n",
       "       [ 0,  4,  4,  0,  0,  0,  0,  0,  0, -4,  4,  0,  0,  0,  0,  0],\n",
       "       [ 0, -4,  4,  0, -2,  2,  2, -2,  0,  0,  0,  0, -2, -2, -2, -2],\n",
       "       [ 0, -4,  0,  0,  4,  0,  0,  0,  2, -2,  2,  2, -2,  2,  2,  2],\n",
       "       [ 0, -4,  0,  0, -2, -2, -2,  2, -2, -2,  2, -2,  4,  0,  0,  0]])"
      ]
     },
     "execution_count": 8,
     "metadata": {},
     "output_type": "execute_result"
    }
   ],
   "source": [
    "def get_lat(sbox):\n",
    "    size = len(sbox)\n",
    "    lat = np.array([[0]*size]*size)\n",
    "    for a in range(size):\n",
    "        for b in range(size):\n",
    "            lat[a, b] = correlations(linears[a], lambda x: linears[b](sbox[x]))\n",
    "    return lat\n",
    "\n",
    "(get_lat(gift)-8)#[1, 9]#*(2**(1-4)) - 1).max()"
   ]
  },
  {
   "cell_type": "code",
   "execution_count": 63,
   "metadata": {
    "collapsed": false
   },
   "outputs": [
    {
     "data": {
      "text/plain": [
       "array([[16,  0,  0,  0,  0,  0,  0,  0,  0,  0,  0,  0,  0,  0,  0,  0],\n",
       "       [ 0,  0,  0,  4,  0,  0,  0,  4,  0,  4,  0,  0,  0,  4,  0,  0],\n",
       "       [ 0,  0,  0,  2,  0,  4,  2,  0,  0,  0,  2,  0,  2,  2,  2,  0],\n",
       "       [ 0,  2,  0,  2,  2,  0,  4,  2,  0,  0,  2,  2,  0,  0,  0,  0],\n",
       "       [ 0,  0,  0,  0,  0,  4,  2,  2,  0,  2,  2,  0,  2,  0,  2,  0],\n",
       "       [ 0,  2,  0,  0,  2,  0,  0,  0,  0,  2,  2,  2,  4,  2,  0,  0],\n",
       "       [ 0,  0,  2,  0,  0,  0,  2,  0,  2,  0,  0,  4,  2,  0,  0,  4],\n",
       "       [ 0,  4,  2,  0,  0,  0,  2,  0,  2,  0,  0,  0,  2,  0,  0,  4],\n",
       "       [ 0,  0,  0,  2,  0,  0,  0,  2,  0,  2,  0,  4,  0,  2,  0,  4],\n",
       "       [ 0,  0,  2,  0,  4,  0,  2,  0,  2,  0,  0,  0,  2,  0,  4,  0],\n",
       "       [ 0,  0,  2,  2,  0,  4,  0,  0,  2,  0,  2,  0,  0,  2,  2,  0],\n",
       "       [ 0,  2,  0,  0,  2,  0,  0,  0,  4,  2,  2,  2,  0,  2,  0,  0],\n",
       "       [ 0,  0,  2,  0,  0,  4,  0,  2,  2,  2,  2,  0,  0,  0,  2,  0],\n",
       "       [ 0,  2,  4,  2,  2,  0,  0,  2,  0,  0,  2,  2,  0,  0,  0,  0],\n",
       "       [ 0,  0,  2,  2,  0,  0,  2,  2,  2,  2,  0,  0,  2,  2,  0,  0],\n",
       "       [ 0,  4,  0,  0,  4,  0,  0,  0,  0,  0,  0,  0,  0,  0,  4,  4]])"
      ]
     },
     "execution_count": 63,
     "metadata": {},
     "output_type": "execute_result"
    }
   ],
   "source": [
    "sboxes = {\n",
    "'PRESENT':\t[0xC, 5, 6, 0xB, 9, 0, 0xA, 0xD, 3, 0xE, 0xF, 8, 4, 7, 1, 2],\n",
    "'Midori':\t[0xC, 0xA, 0xD, 3, 0xE, 0xB, 0xF, 7, 8, 9, 1, 5, 0, 2, 4, 6],\n",
    "'GIFT':\t\t[1, 0xA, 4, 0xC, 6, 0xF, 3, 9, 2, 0xD, 0xB, 7, 5, 0, 8, 0xE],\n",
    "'SKINNY1':\t[0xC, 6, 9, 0, 1, 0xA, 2, 0xB, 3, 8, 5, 0xD, 4, 0xE, 7, 0xF],\n",
    "'SKINNY2':\t[3, 4, 6, 8, 0xC, 0xA, 1, 0xE, 9, 2, 5, 7, 0, 0xB, 0xD, 0xF],\n",
    "'LILLIPUT':\t[4, 8, 7, 1, 9, 3, 2, 0xE, 0, 0xB, 3, 0xF, 0xA, 5, 0xD, 0xC],\n",
    "}\n",
    "\n",
    "get_ddt(sboxes['PRESENT'])\n",
    "#get_lat(sboxes['LILLIPUT'])-8"
   ]
  },
  {
   "cell_type": "code",
   "execution_count": 10,
   "metadata": {
    "collapsed": false
   },
   "outputs": [
    {
     "data": {
      "text/plain": [
       "{'GIFT': 6,\n",
       " 'LILLIPUT': 6,\n",
       " 'Midori': 4,\n",
       " 'PRESENT': 4,\n",
       " 'SKINNY1': 4,\n",
       " 'SKINNY2': 4}"
      ]
     },
     "execution_count": 10,
     "metadata": {},
     "output_type": "execute_result"
    }
   ],
   "source": [
    "difs = dict()\n",
    "ddts = dict()\n",
    "for name, sbox in sboxes.items():\n",
    "    ddt = get_ddt(sbox)\n",
    "    ddts[name] = ddt\n",
    "    ddt[0, 0] = 0\n",
    "    difs[name] = ddt.max() \n",
    "    ddt[0, 0] = 16\n",
    "difs "
   ]
  },
  {
   "cell_type": "code",
   "execution_count": 89,
   "metadata": {
    "collapsed": false
   },
   "outputs": [],
   "source": [
    "def export_truth_table(filename, truth_table):\n",
    "    with open(filename, 'w') as f:\n",
    "        function_name = filename.split('.')[0]\n",
    "        f.write('x1,x2,x3,x4,y1,y2,y3,y4,,{}\\n'.format(function_name[:8])) # 8 is Logic Friday max len \n",
    "        for i in range(len(truth_table)):\n",
    "            index = bin(i)[2:].zfill(8)\n",
    "            index = ','.join([x for x in index])\n",
    "            f.write(index + ',,{}\\n'.format(truth_table[i]))\n",
    "\n",
    "export_truth_table('Midori.csv', mddts['Midori'])"
   ]
  },
  {
   "cell_type": "code",
   "execution_count": 37,
   "metadata": {
    "collapsed": false
   },
   "outputs": [
    {
     "name": "stdout",
     "output_type": "stream",
     "text": [
      "[[16  0  0  0  0  0  0  0  0  0  0  0  0  0  0  0]\n",
      " [ 0  0  0  4  0  0  0  4  0  4  0  0  0  4  0  0]\n",
      " [ 0  0  0  2  0  4  2  0  0  0  2  0  2  2  2  0]\n",
      " [ 0  2  0  2  2  0  4  2  0  0  2  2  0  0  0  0]\n",
      " [ 0  0  0  0  0  4  2  2  0  2  2  0  2  0  2  0]\n",
      " [ 0  2  0  0  2  0  0  0  0  2  2  2  4  2  0  0]\n",
      " [ 0  0  2  0  0  0  2  0  2  0  0  4  2  0  0  4]\n",
      " [ 0  4  2  0  0  0  2  0  2  0  0  0  2  0  0  4]\n",
      " [ 0  0  0  2  0  0  0  2  0  2  0  4  0  2  0  4]\n",
      " [ 0  0  2  0  4  0  2  0  2  0  0  0  2  0  4  0]\n",
      " [ 0  0  2  2  0  4  0  0  2  0  2  0  0  2  2  0]\n",
      " [ 0  2  0  0  2  0  0  0  4  2  2  2  0  2  0  0]\n",
      " [ 0  0  2  0  0  4  0  2  2  2  2  0  0  0  2  0]\n",
      " [ 0  2  4  2  2  0  0  2  0  0  2  2  0  0  0  0]\n",
      " [ 0  0  2  2  0  0  2  2  2  2  0  0  2  2  0  0]\n",
      " [ 0  4  0  0  4  0  0  0  0  0  0  0  0  0  4  4]]\n"
     ]
    }
   ],
   "source": [
    "print(ddts['PRESENT'])"
   ]
  },
  {
   "cell_type": "code",
   "execution_count": 14,
   "metadata": {
    "collapsed": false,
    "scrolled": true
   },
   "outputs": [
    {
     "data": {
      "text/plain": [
       "[1,\n",
       " 0,\n",
       " 0,\n",
       " 0,\n",
       " 0,\n",
       " 0,\n",
       " 0,\n",
       " 0,\n",
       " 0,\n",
       " 0,\n",
       " 0,\n",
       " 0,\n",
       " 0,\n",
       " 0,\n",
       " 0,\n",
       " 0,\n",
       " 0,\n",
       " 0,\n",
       " 0,\n",
       " 1,\n",
       " 0,\n",
       " 0,\n",
       " 0,\n",
       " 1,\n",
       " 0,\n",
       " 1,\n",
       " 0,\n",
       " 0,\n",
       " 0,\n",
       " 1,\n",
       " 0,\n",
       " 0,\n",
       " 0,\n",
       " 0,\n",
       " 0,\n",
       " 1,\n",
       " 0,\n",
       " 1,\n",
       " 1,\n",
       " 0,\n",
       " 0,\n",
       " 0,\n",
       " 1,\n",
       " 0,\n",
       " 1,\n",
       " 1,\n",
       " 1,\n",
       " 0,\n",
       " 0,\n",
       " 1,\n",
       " 0,\n",
       " 1,\n",
       " 1,\n",
       " 0,\n",
       " 1,\n",
       " 1,\n",
       " 0,\n",
       " 0,\n",
       " 1,\n",
       " 1,\n",
       " 0,\n",
       " 0,\n",
       " 0,\n",
       " 0,\n",
       " 0,\n",
       " 0,\n",
       " 0,\n",
       " 0,\n",
       " 0,\n",
       " 1,\n",
       " 1,\n",
       " 1,\n",
       " 0,\n",
       " 1,\n",
       " 1,\n",
       " 0,\n",
       " 1,\n",
       " 0,\n",
       " 1,\n",
       " 0,\n",
       " 0,\n",
       " 1,\n",
       " 0,\n",
       " 0,\n",
       " 1,\n",
       " 0,\n",
       " 0,\n",
       " 0,\n",
       " 0,\n",
       " 1,\n",
       " 1,\n",
       " 1,\n",
       " 1,\n",
       " 1,\n",
       " 0,\n",
       " 0,\n",
       " 0,\n",
       " 0,\n",
       " 1,\n",
       " 0,\n",
       " 0,\n",
       " 0,\n",
       " 1,\n",
       " 0,\n",
       " 1,\n",
       " 0,\n",
       " 0,\n",
       " 1,\n",
       " 1,\n",
       " 0,\n",
       " 0,\n",
       " 1,\n",
       " 0,\n",
       " 1,\n",
       " 1,\n",
       " 0,\n",
       " 0,\n",
       " 0,\n",
       " 1,\n",
       " 0,\n",
       " 1,\n",
       " 0,\n",
       " 0,\n",
       " 0,\n",
       " 1,\n",
       " 0,\n",
       " 0,\n",
       " 1,\n",
       " 0,\n",
       " 0,\n",
       " 0,\n",
       " 1,\n",
       " 0,\n",
       " 0,\n",
       " 0,\n",
       " 1,\n",
       " 0,\n",
       " 1,\n",
       " 0,\n",
       " 1,\n",
       " 0,\n",
       " 1,\n",
       " 0,\n",
       " 1,\n",
       " 0,\n",
       " 0,\n",
       " 1,\n",
       " 0,\n",
       " 1,\n",
       " 0,\n",
       " 1,\n",
       " 0,\n",
       " 1,\n",
       " 0,\n",
       " 0,\n",
       " 0,\n",
       " 1,\n",
       " 0,\n",
       " 1,\n",
       " 0,\n",
       " 0,\n",
       " 0,\n",
       " 1,\n",
       " 1,\n",
       " 0,\n",
       " 1,\n",
       " 0,\n",
       " 0,\n",
       " 1,\n",
       " 0,\n",
       " 1,\n",
       " 0,\n",
       " 0,\n",
       " 1,\n",
       " 1,\n",
       " 0,\n",
       " 0,\n",
       " 1,\n",
       " 0,\n",
       " 0,\n",
       " 1,\n",
       " 0,\n",
       " 0,\n",
       " 0,\n",
       " 1,\n",
       " 1,\n",
       " 1,\n",
       " 1,\n",
       " 0,\n",
       " 1,\n",
       " 0,\n",
       " 0,\n",
       " 0,\n",
       " 0,\n",
       " 1,\n",
       " 0,\n",
       " 0,\n",
       " 1,\n",
       " 0,\n",
       " 1,\n",
       " 1,\n",
       " 1,\n",
       " 1,\n",
       " 0,\n",
       " 0,\n",
       " 0,\n",
       " 1,\n",
       " 0,\n",
       " 0,\n",
       " 1,\n",
       " 1,\n",
       " 1,\n",
       " 1,\n",
       " 0,\n",
       " 0,\n",
       " 1,\n",
       " 0,\n",
       " 0,\n",
       " 1,\n",
       " 1,\n",
       " 0,\n",
       " 0,\n",
       " 0,\n",
       " 0,\n",
       " 0,\n",
       " 0,\n",
       " 1,\n",
       " 1,\n",
       " 0,\n",
       " 0,\n",
       " 1,\n",
       " 1,\n",
       " 1,\n",
       " 1,\n",
       " 0,\n",
       " 0,\n",
       " 1,\n",
       " 1,\n",
       " 0,\n",
       " 0,\n",
       " 0,\n",
       " 1,\n",
       " 0,\n",
       " 0,\n",
       " 1,\n",
       " 0,\n",
       " 0,\n",
       " 0,\n",
       " 0,\n",
       " 0,\n",
       " 0,\n",
       " 0,\n",
       " 0,\n",
       " 0,\n",
       " 1,\n",
       " 1]"
      ]
     },
     "execution_count": 14,
     "metadata": {},
     "output_type": "execute_result"
    }
   ],
   "source": [
    "def milpify_ddt(ddt):\n",
    "    truth_table = [0] * 256\n",
    "    for i in range(16):\n",
    "        for j in range(16):\n",
    "            if ddt[i, j] > 0:\n",
    "                truth_table[(i << 4) + j] = 1\n",
    "    return truth_table\n",
    "\n",
    "mddts = dict()\n",
    "for name, sbox in ddts.items():\n",
    "    mddts[name] = milpify_ddt(ddts[name])\n",
    "mddts['PRESENT']"
   ]
  },
  {
   "cell_type": "code",
   "execution_count": 28,
   "metadata": {
    "collapsed": false
   },
   "outputs": [
    {
     "data": {
      "text/plain": [
       "'0b10001111'"
      ]
     },
     "execution_count": 28,
     "metadata": {},
     "output_type": "execute_result"
    }
   ],
   "source": [
    "bin((8 << 4) + 15)"
   ]
  },
  {
   "cell_type": "code",
   "execution_count": 11,
   "metadata": {
    "collapsed": false
   },
   "outputs": [
    {
     "data": {
      "text/plain": [
       "{'GIFT': 12,\n",
       " 'LILLIPUT': 13,\n",
       " 'Midori': 12,\n",
       " 'PRESENT': 12,\n",
       " 'SKINNY1': 12,\n",
       " 'SKINNY2': 12}"
      ]
     },
     "execution_count": 11,
     "metadata": {},
     "output_type": "execute_result"
    }
   ],
   "source": [
    "lins = dict()\n",
    "for name, sbox in sboxes.items():\n",
    "    lat = get_lat(sbox)\n",
    "    lat[0, 0] = 0\n",
    "    lins[name] = lat.max() \n",
    "lins"
   ]
  },
  {
   "cell_type": "code",
   "execution_count": 12,
   "metadata": {
    "collapsed": false
   },
   "outputs": [
    {
     "data": {
      "text/plain": [
       "'0000110'"
      ]
     },
     "execution_count": 12,
     "metadata": {},
     "output_type": "execute_result"
    }
   ],
   "source": [
    "'0110'.zfill(7)"
   ]
  },
  {
   "cell_type": "code",
   "execution_count": 13,
   "metadata": {
    "collapsed": false
   },
   "outputs": [
    {
     "name": "stdout",
     "output_type": "stream",
     "text": [
      "PRESENT\n",
      "1 3 [] 1 ^ x4 ^ x3 ^ x2x3 ^ x2x3x4 ^ x1 ^ x1x3x4 ^ x1x2x4\n",
      "2 3 [] 1 ^ x3x4 ^ x2 ^ x1 ^ x1x4 ^ x1x3 ^ x1x3x4 ^ x1x2x4\n",
      "3 3 [] x3 ^ x2x3x4 ^ x1 ^ x1x3 ^ x1x3x4 ^ x1x2 ^ x1x2x4\n",
      "4 2 ['x1', 'x4'] x4 ^ x2 ^ x2x3 ^ x1\n",
      "SKINNY1\n",
      "1 2 ['x4'] 1 ^ x4 ^ x2 ^ x1 ^ x1x2\n",
      "2 2 ['x1'] 1 ^ x3 ^ x2 ^ x2x3 ^ x1\n",
      "3 3 [] x4 ^ x3x4 ^ x2x3 ^ x1 ^ x1x3 ^ x1x2 ^ x1x2x3\n",
      "4 3 [] x3 ^ x3x4 ^ x2 ^ x2x4 ^ x2x3x4 ^ x1 ^ x1x4 ^ x1x3 ^ x1x2x3\n",
      "LILLIPUT\n",
      "1 3 [] x4 ^ x3x4 ^ x2 ^ x2x3 ^ x2x3x4 ^ x1x3x4 ^ x1x2x3\n",
      "2 4 [] 1 ^ x4 ^ x2 ^ x2x4 ^ x2x3x4 ^ x1 ^ x1x4 ^ x1x3x4 ^ x1x2 ^ x1x2x3 ^ x1x2x3x4\n",
      "3 3 [] x3 ^ x3x4 ^ x2x4 ^ x1x4 ^ x1x2 ^ x1x2x4\n",
      "4 4 [] x3 ^ x2 ^ x1x4 ^ x1x3x4 ^ x1x2 ^ x1x2x3x4\n",
      "SKINNY2\n",
      "1 3 [] x3x4 ^ x2 ^ x2x3 ^ x1 ^ x1x4 ^ x1x3 ^ x1x2x3\n",
      "2 2 ['x3'] x4 ^ x3 ^ x2 ^ x1x4 ^ x1x2\n",
      "3 2 ['x4'] 1 ^ x4 ^ x2 ^ x1 ^ x1x2\n",
      "4 3 [] 1 ^ x4 ^ x3 ^ x3x4 ^ x2 ^ x2x4 ^ x1x3 ^ x1x2x4 ^ x1x2x3\n",
      "Midori\n",
      "1 3 [] 1 ^ x3x4 ^ x1x3 ^ x1x3x4 ^ x1x2 ^ x1x2x3\n",
      "2 3 [] 1 ^ x4 ^ x2x3x4 ^ x1 ^ x1x4 ^ x1x3x4 ^ x1x2x3\n",
      "3 2 [] x4 ^ x2 ^ x2x4 ^ x1x4 ^ x1x2\n",
      "4 3 [] x3 ^ x2x4 ^ x2x3x4 ^ x1x4 ^ x1x3x4 ^ x1x2x3\n",
      "GIFT\n",
      "1 3 [] x4 ^ x1x3 ^ x1x2x4\n",
      "2 3 [] x3 ^ x2 ^ x1x4 ^ x1x3 ^ x1x2x3\n",
      "3 2 ['x1'] x4 ^ x3x4 ^ x2 ^ x2x4 ^ x1\n",
      "4 2 ['x1', 'x2'] 1 ^ x4 ^ x3 ^ x3x4 ^ x2 ^ x1\n"
     ]
    }
   ],
   "source": [
    "from math import log2\n",
    "def get_deg_by_polynom(s):\n",
    "    x = ['1', 'x4', 'x3', 'x3x4', 'x2', 'x2x4', 'x2x3', 'x2x3x4', 'x1', 'x1x4', 'x1x3', 'x1x3x4', 'x1x2', 'x1x2x4', 'x1x2x3', 'x1x2x3x4']\n",
    "    polynom = []\n",
    "    for i in range(16):\n",
    "        if s[i] == '1':\n",
    "            polynom.append(x[i])\n",
    "    degree = max([len(x)//2 for x in polynom])\n",
    "    xs = ['x1', 'x2', 'x3', 'x4']\n",
    "    lin = [x for x in xs if x in polynom] \n",
    "    non_lin ={x for x in xs for m in polynom if x in m and len(x) < len(m)}\n",
    "    non_lin = [x for x in lin if x not in non_lin]\n",
    "    return degree, non_lin, ' ^ '.join(polynom)\n",
    "\n",
    "def get_bf_degree(table):\n",
    "    n = int(log2(len(table)))\n",
    "    t = [''] * (n + 1)\n",
    "    t[0] = table\n",
    "    for row in range(n):\n",
    "        cell_size = 2**row\n",
    "        next_row = 0\n",
    "        for cell in range(0, 2**n, cell_size*2):\n",
    "            left = int(t[row][cell: cell + cell_size], 2)\n",
    "            right = int(t[row][cell + cell_size: cell + 2*cell_size], 2)\n",
    "            t[row + 1] += bin(left)[2:].zfill(cell_size) + bin(left^ right)[2:].zfill(cell_size)\n",
    "    \n",
    "    \n",
    "    return get_deg_by_polynom(t[n]), t[n]\n",
    "\n",
    "def get_sbox_degree(sbox):\n",
    "    masks = [0b1000, 0b0100, 0b0010, 0b0001]\n",
    "    t = [''] * 4\n",
    "    for i in range(4):\n",
    "        table = ''.join([str((masks[i] & sbox[x]) >> (3 - i)) for x in range(16)])\n",
    "        (degree, non_lin, polynom), t[i] = get_bf_degree(table)\n",
    "        print(i + 1, degree, non_lin, polynom)\n",
    "    \n",
    "    \n",
    "\n",
    "for name, sbox in sboxes.items():\n",
    "    print(name)\n",
    "    get_sbox_degree(sboxes[name])\n"
   ]
  },
  {
   "cell_type": "code",
   "execution_count": 73,
   "metadata": {
    "collapsed": false
   },
   "outputs": [
    {
     "name": "stdout",
     "output_type": "stream",
     "text": [
      "PRESENT\n",
      "8 16\n",
      "GIFT\n",
      "4 16\n",
      "SKINNY2\n",
      "0 16\n",
      "LILLIPUT\n",
      "4 14\n",
      "SKINNY1\n",
      "0 16\n",
      "Midori\n",
      "0 8\n"
     ]
    }
   ],
   "source": [
    "def avalanche(sbox):\n",
    "    masks = [0b1000, 0b0100, 0b0010, 0b0001]\n",
    "    res = []\n",
    "    for mask in masks:\n",
    "        sums =[0] * 4\n",
    "        for x in range(16):\n",
    "            s = '{0:04b}'.format(sbox[x] ^ sbox[x ^ mask])\n",
    "            for i in range(4):\n",
    "                if s[i] == '1':\n",
    "                    sums[i] += 1\n",
    "            #print(s)\n",
    "        res.append(sums)\n",
    "    return res\n",
    "\n",
    "for name, sbox in sboxes.items():\n",
    "    print(name)\n",
    "    a = np.array(avalanche(sboxes[name]))\n",
    "    print(a.min(), a.max())"
   ]
  },
  {
   "cell_type": "code",
   "execution_count": 134,
   "metadata": {
    "collapsed": false
   },
   "outputs": [
    {
     "data": {
      "text/plain": [
       "['',\n",
       " 'x4',\n",
       " 'x3',\n",
       " 'x3x4',\n",
       " 'x2',\n",
       " 'x2x4',\n",
       " 'x2x3',\n",
       " 'x2x3x4',\n",
       " 'x1',\n",
       " 'x1x4',\n",
       " 'x1x3',\n",
       " 'x1x3x4',\n",
       " 'x1x2',\n",
       " 'x1x2x4',\n",
       " 'x1x2x3',\n",
       " 'x1x2x3x4']"
      ]
     },
     "execution_count": 134,
     "metadata": {},
     "output_type": "execute_result"
    }
   ],
   "source": [
    "a = ['x1', 'x2', 'x3', 'x4']\n",
    "x = ['{0:04b}'.format(i) for i in range(16)]\n",
    "ms = []\n",
    "for i in range(16):\n",
    "    m = ''\n",
    "    for j in range(4):\n",
    "        if x[i][j] == '1':\n",
    "            m += a[j]\n",
    "    ms.append(m)\n",
    "ms"
   ]
  },
  {
   "cell_type": "code",
   "execution_count": 135,
   "metadata": {
    "collapsed": false
   },
   "outputs": [
    {
     "name": "stdout",
     "output_type": "stream",
     "text": [
      "GIFT 2\n",
      "PRESENT 3\n",
      "SKINNY1 2\n",
      "Midori 2\n",
      "LILLIPUT 2\n",
      "SKINNY2 2\n"
     ]
    }
   ],
   "source": [
    "def hamming_weight(num):\n",
    "    s = '{0:04b}'.format(num)\n",
    "    return s.count('1')\n",
    "\n",
    "def get_bn(sbox):\n",
    "    min_hw = 9999\n",
    "    for a in range(16):\n",
    "        for b in range(16):\n",
    "            if a != b:\n",
    "                hw = hamming_weight(a ^ b) + hamming_weight(sbox[a] ^ sbox[b])\n",
    "                if hw < min_hw:\n",
    "                    min_hw = hw\n",
    "    return min_hw\n",
    "\n",
    "for name, sbox in sboxes.items():\n",
    "    print(name, get_bn(sboxes[name]))"
   ]
  },
  {
   "cell_type": "code",
   "execution_count": 81,
   "metadata": {
    "collapsed": false,
    "scrolled": true
   },
   "outputs": [
    {
     "data": {
      "text/plain": [
       "{2: array([[0, 0, 0, 0, 0, 0, 0, 0, 0, 0, 0, 0, 0, 0, 0, 0],\n",
       "        [0, 1, 0, 0, 1, 1, 1, 0, 1, 0, 0, 0, 0, 0, 1, 0],\n",
       "        [0, 0, 0, 0, 0, 0, 0, 0, 0, 0, 0, 0, 0, 0, 0, 0],\n",
       "        [0, 0, 0, 0, 1, 0, 0, 1, 1, 1, 0, 0, 0, 1, 0, 1],\n",
       "        [0, 1, 0, 1, 1, 1, 0, 0, 1, 0, 0, 1, 0, 0, 0, 0],\n",
       "        [0, 1, 0, 0, 1, 0, 0, 0, 0, 1, 0, 0, 1, 0, 0, 0],\n",
       "        [0, 1, 0, 0, 0, 0, 0, 1, 1, 0, 0, 0, 1, 1, 0, 1],\n",
       "        [0, 0, 0, 1, 0, 0, 1, 0, 0, 0, 0, 1, 0, 0, 1, 0],\n",
       "        [0, 1, 0, 1, 1, 0, 1, 0, 0, 1, 0, 1, 1, 0, 1, 0],\n",
       "        [0, 0, 0, 1, 0, 1, 0, 0, 1, 1, 0, 1, 1, 0, 0, 0],\n",
       "        [0, 0, 0, 0, 0, 0, 0, 0, 0, 0, 0, 0, 0, 0, 0, 0],\n",
       "        [0, 0, 0, 0, 1, 0, 0, 1, 1, 1, 0, 0, 0, 1, 0, 1],\n",
       "        [0, 0, 0, 0, 0, 1, 1, 0, 1, 1, 0, 0, 1, 0, 1, 0],\n",
       "        [0, 0, 0, 1, 0, 0, 1, 0, 0, 0, 0, 1, 0, 0, 1, 0],\n",
       "        [0, 1, 0, 0, 0, 0, 0, 1, 1, 0, 0, 0, 1, 1, 0, 1],\n",
       "        [0, 0, 0, 1, 0, 0, 1, 0, 0, 0, 0, 1, 0, 0, 1, 0]]),\n",
       " 4: array([[0, 0, 0, 0, 0, 0, 0, 0, 0, 0, 0, 0, 0, 0, 0, 0],\n",
       "        [0, 0, 1, 0, 0, 0, 0, 0, 0, 0, 0, 0, 0, 0, 0, 0],\n",
       "        [0, 1, 0, 0, 1, 0, 0, 0, 0, 1, 0, 0, 1, 0, 0, 0],\n",
       "        [0, 0, 0, 0, 0, 0, 1, 0, 0, 0, 0, 0, 0, 0, 0, 0],\n",
       "        [0, 0, 1, 0, 0, 0, 0, 0, 0, 0, 0, 0, 0, 0, 0, 0],\n",
       "        [0, 0, 0, 0, 0, 0, 0, 1, 0, 0, 1, 0, 0, 0, 0, 0],\n",
       "        [0, 0, 0, 1, 0, 0, 0, 0, 0, 0, 0, 0, 0, 0, 0, 0],\n",
       "        [0, 0, 0, 0, 0, 1, 0, 0, 0, 0, 0, 0, 0, 1, 0, 0],\n",
       "        [0, 0, 0, 0, 0, 0, 0, 0, 0, 0, 0, 0, 0, 0, 0, 0],\n",
       "        [0, 0, 1, 0, 0, 0, 0, 0, 0, 0, 0, 0, 0, 0, 0, 0],\n",
       "        [0, 0, 0, 0, 0, 1, 0, 0, 0, 0, 1, 0, 0, 1, 0, 1],\n",
       "        [0, 0, 0, 0, 0, 0, 0, 0, 0, 0, 0, 1, 0, 0, 0, 0],\n",
       "        [0, 0, 1, 0, 0, 0, 0, 0, 0, 0, 0, 0, 0, 0, 0, 0],\n",
       "        [0, 0, 0, 0, 0, 0, 0, 1, 0, 0, 1, 0, 0, 0, 0, 0],\n",
       "        [0, 0, 0, 0, 0, 0, 0, 0, 0, 0, 0, 0, 0, 0, 1, 0],\n",
       "        [0, 0, 0, 0, 0, 0, 0, 0, 0, 0, 1, 0, 0, 0, 0, 1]])}"
      ]
     },
     "execution_count": 81,
     "metadata": {},
     "output_type": "execute_result"
    }
   ],
   "source": [
    "def get_pb_ddts(ddt):\n",
    "    ddt[0, 0] = 0\n",
    "    pb_ddts = {x:0 for x in range(2, ddt.max() + 1, 2)}\n",
    "    for pb in pb_ddts.keys():\n",
    "        pb_ddt = np.array([[0]*16]*16)\n",
    "        for i in range(16):\n",
    "            for j in range(16):\n",
    "                if ddt[i, j] == pb:\n",
    "                    pb_ddt[i, j] = 1\n",
    "        pb_ddts[pb] = pb_ddt\n",
    "    return pb_ddts\n",
    "\n",
    "pb_ddts = dict()\n",
    "for alg, sbox in sboxes.items():\n",
    "    pb_ddts[alg] = get_pb_ddts(ddts[alg])\n",
    "    \n",
    "pb_ddts['Midori']"
   ]
  },
  {
   "cell_type": "code",
   "execution_count": 146,
   "metadata": {
    "collapsed": false
   },
   "outputs": [
    {
     "name": "stdout",
     "output_type": "stream",
     "text": [
      "[0, 4, 8, 12, 16, 20, 24, 28, 32, 36, 40, 44, 48, 52, 56, 60, 1, 5, 9, 13, 17, 21, 25, 29, 33, 37, 41, 45, 49, 53, 57, 61, 2, 6, 10, 14, 18, 22, 26, 30, 34, 38, 42, 46, 50, 54, 58, 62, 3, 7, 11, 15, 19, 23, 27, 31, 35, 39, 43, 47, 51, 55, 59, 63]\n"
     ]
    }
   ],
   "source": [
    "def pp(a):\n",
    "    new_a=[]\n",
    "    for i in range(0,64):\n",
    "        new_a.append(0)\n",
    "    for i in range(0,16):\n",
    "        new_a[i]=a[4*i]\n",
    "    for i in range(0,16):\n",
    "        new_a[i+16]=a[1+4*i]\n",
    "    for i in range(0,16):\n",
    "        new_a[i+32]=a[2+4*i]\n",
    "    for i in range(0,16):\n",
    "        new_a[i+48]=a[3+4*i]\n",
    "    a=new_a\n",
    "    return a\n",
    "\n",
    "print(pp(list(range(64))))"
   ]
  },
  {
   "cell_type": "code",
   "execution_count": 153,
   "metadata": {
    "collapsed": false
   },
   "outputs": [
    {
     "data": {
      "text/plain": [
       "4.0"
      ]
     },
     "execution_count": 153,
     "metadata": {},
     "output_type": "execute_result"
    }
   ],
   "source": [
    "64/16"
   ]
  },
  {
   "cell_type": "code",
   "execution_count": 163,
   "metadata": {
    "collapsed": false
   },
   "outputs": [
    {
     "name": "stdout",
     "output_type": "stream",
     "text": [
      "[3, 18, 33, 48, 2, 17, 32, 51, 1, 16, 35, 50, 0, 19, 34, 49, 7, 22, 37, 52, 6, 21, 36, 55, 5, 20, 39, 54, 4, 23, 38, 53, 11, 26, 41, 56, 10, 25, 40, 59, 9, 24, 43, 58, 8, 27, 42, 57, 15, 30, 45, 60, 14, 29, 44, 63, 13, 28, 47, 62, 12, 31, 46, 61]\n",
      "[0, 1, 2, 3, 4, 5, 6, 7, 8, 9, 10, 11, 12, 13, 14, 15, 16, 17, 18, 19, 20, 21, 22, 23, 24, 25, 26, 27, 28, 29, 30, 31, 32, 33, 34, 35, 36, 37, 38, 39, 40, 41, 42, 43, 44, 45, 46, 47, 48, 49, 50, 51, 52, 53, 54, 55, 56, 57, 58, 59, 60, 61, 62, 63]\n",
      "[3, 7, 11, 15, 18, 22, 26, 30, 33, 37, 41, 45, 48, 52, 56, 60, 2, 6, 10, 14, 17, 21, 25, 29, 32, 36, 40, 44, 51, 55, 59, 63, 1, 5, 9, 13, 16, 20, 24, 28, 35, 39, 43, 47, 50, 54, 58, 62, 0, 4, 8, 12, 19, 23, 27, 31, 34, 38, 42, 46, 49, 53, 57, 61]\n"
     ]
    }
   ],
   "source": [
    "def present_perm(i):\n",
    "    r = i // 4\n",
    "    q = i % 4\n",
    "    #return 16*q+r \n",
    "    return 16*q+4*(r//4)+(3-r-q)%4\n",
    "\n",
    "p = [present_perm(x) for x in range(64)]\n",
    "print(p)\n",
    "print(sorted(p))\n",
    "mp = []\n",
    "for i in range(16):\n",
    "    mp += p[i::16]\n",
    "print(mp)"
   ]
  },
  {
   "cell_type": "code",
   "execution_count": 166,
   "metadata": {
    "collapsed": false
   },
   "outputs": [
    {
     "data": {
      "text/plain": [
       "[1, 0, 0, 0]"
      ]
     },
     "execution_count": 166,
     "metadata": {},
     "output_type": "execute_result"
    }
   ],
   "source": [
    "x = [0]*64\n",
    "x[3] = 1\n",
    "new_x = [0]*64\n",
    "for i in range(64):\n",
    "    new_x[p[i]] = x[i]\n",
    "    \n",
    "str(new_x).replace(', ','')\n",
    "new_x[48:52]"
   ]
  },
  {
   "cell_type": "code",
   "execution_count": 111,
   "metadata": {
    "collapsed": false
   },
   "outputs": [
    {
     "name": "stdout",
     "output_type": "stream",
     "text": [
      "PRESENT\n",
      "[[0 0 0 0]\n",
      " [0 0 0 0]\n",
      " [0 0 0 0]\n",
      " [0 0 0 0]]\n",
      "GIFT\n",
      "[[0 0 0 2]\n",
      " [0 0 0 0]\n",
      " [0 0 0 0]\n",
      " [0 0 0 0]]\n",
      "SKINNY2\n",
      "[[0 4 0 0]\n",
      " [0 0 4 0]\n",
      " [0 0 0 4]\n",
      " [4 0 0 0]]\n",
      "LILLIPUT\n",
      "[[2 0 0 0]\n",
      " [0 0 2 0]\n",
      " [0 0 0 0]\n",
      " [0 2 4 0]]\n",
      "SKINNY1\n",
      "[[0 0 0 4]\n",
      " [4 0 0 0]\n",
      " [0 4 0 0]\n",
      " [0 0 4 0]]\n",
      "Midori\n",
      "[[2 4 2 2]\n",
      " [4 0 4 0]\n",
      " [2 4 2 2]\n",
      " [2 0 2 0]]\n"
     ]
    }
   ],
   "source": [
    "def get_important(ddt):\n",
    "    indexes = [1, 2, 4, 8]\n",
    "    imp_ddt = np.array([[0]*4]*4)\n",
    "    for i in range(4):\n",
    "        for j in range(4):\n",
    "            imp_ddt[i,j] = ddt[indexes[i],indexes[j]]\n",
    "    return imp_ddt\n",
    "            \n",
    "for alg, sbox in sboxes.items():\n",
    "    print(alg)\n",
    "    print(get_important(ddts[alg]))\n"
   ]
  },
  {
   "cell_type": "code",
   "execution_count": 101,
   "metadata": {
    "collapsed": false
   },
   "outputs": [
    {
     "data": {
      "text/plain": [
       "array([[0, 0, 0, 0, 0, 0, 0, 0, 0, 0, 0, 0, 0, 0, 0, 0],\n",
       "       [0, 2, 4, 0, 2, 2, 2, 0, 2, 0, 0, 0, 0, 0, 2, 0],\n",
       "       [0, 4, 0, 0, 4, 0, 0, 0, 0, 4, 0, 0, 4, 0, 0, 0],\n",
       "       [0, 0, 0, 0, 2, 0, 4, 2, 2, 2, 0, 0, 0, 2, 0, 2],\n",
       "       [0, 2, 4, 2, 2, 2, 0, 0, 2, 0, 0, 2, 0, 0, 0, 0],\n",
       "       [0, 2, 0, 0, 2, 0, 0, 4, 0, 2, 4, 0, 2, 0, 0, 0],\n",
       "       [0, 2, 0, 4, 0, 0, 0, 2, 2, 0, 0, 0, 2, 2, 0, 2],\n",
       "       [0, 0, 0, 2, 0, 4, 2, 0, 0, 0, 0, 2, 0, 4, 2, 0],\n",
       "       [0, 2, 0, 2, 2, 0, 2, 0, 0, 2, 0, 2, 2, 0, 2, 0],\n",
       "       [0, 0, 4, 2, 0, 2, 0, 0, 2, 2, 0, 2, 2, 0, 0, 0],\n",
       "       [0, 0, 0, 0, 0, 4, 0, 0, 0, 0, 4, 0, 0, 4, 0, 4],\n",
       "       [0, 0, 0, 0, 2, 0, 0, 2, 2, 2, 0, 4, 0, 2, 0, 2],\n",
       "       [0, 0, 4, 0, 0, 2, 2, 0, 2, 2, 0, 0, 2, 0, 2, 0],\n",
       "       [0, 0, 0, 2, 0, 0, 2, 4, 0, 0, 4, 2, 0, 0, 2, 0],\n",
       "       [0, 2, 0, 0, 0, 0, 0, 2, 2, 0, 0, 0, 2, 2, 4, 2],\n",
       "       [0, 0, 0, 2, 0, 0, 2, 0, 0, 0, 4, 2, 0, 0, 2, 4]])"
      ]
     },
     "execution_count": 101,
     "metadata": {},
     "output_type": "execute_result"
    }
   ],
   "source": [
    "ddts['Midori']"
   ]
  },
  {
   "cell_type": "code",
   "execution_count": 90,
   "metadata": {
    "collapsed": true
   },
   "outputs": [],
   "source": [
    "for pb, ddt in pb_ddts['Midori'].items():\n",
    "    export_truth_table('pb{}_Midori.csv'.format(pb), milpify_ddt(pb_ddts['Midori'][pb]))"
   ]
  },
  {
   "cell_type": "code",
   "execution_count": null,
   "metadata": {
    "collapsed": true
   },
   "outputs": [],
   "source": []
  },
  {
   "cell_type": "code",
   "execution_count": 12,
   "metadata": {
    "collapsed": true
   },
   "outputs": [],
   "source": [
    "def print_boolean_table(f, n=4):\n",
    "    for x in range(2**n):\n",
    "        print(\"%{}s|%s\".format(n) % (bin(x)[2:], f(x)))"
   ]
  },
  {
   "cell_type": "code",
   "execution_count": 33,
   "metadata": {
    "collapsed": false
   },
   "outputs": [
    {
     "name": "stdout",
     "output_type": "stream",
     "text": [
      "   0|0\n",
      "   1|1\n",
      "  10|0\n",
      "  11|1\n",
      " 100|0\n",
      " 101|1\n",
      " 110|0\n",
      " 111|1\n",
      "1000|0\n",
      "1001|1\n",
      "1010|0\n",
      "1011|1\n",
      "1100|0\n",
      "1101|1\n",
      "1110|0\n",
      "1111|1\n"
     ]
    }
   ],
   "source": [
    "print_boolean_table(linears[1])"
   ]
  },
  {
   "cell_type": "code",
   "execution_count": 19,
   "metadata": {
    "collapsed": false
   },
   "outputs": [
    {
     "name": "stdout",
     "output_type": "stream",
     "text": [
      "1111000000000000000000000000000000000000000000000000000000000000\n",
      "1000000000000000000000000000000000000000000000000000000000000000\n"
     ]
    }
   ],
   "source": [
    "x = '11110000000000000000000000000000000000000000000000000000000000001000000000000000000000000000000000000000000000000000000000000000'\n",
    "len(x)\n",
    "print(x[:64])\n",
    "print(x[64:])"
   ]
  },
  {
   "cell_type": "code",
   "execution_count": 24,
   "metadata": {
    "collapsed": false
   },
   "outputs": [
    {
     "name": "stdout",
     "output_type": "stream",
     "text": [
      "2018-05-02 02:18:50.365248\n"
     ]
    }
   ],
   "source": [
    "from datetime import datetime\n",
    "print(str(datetime.now()))\n",
    "\n",
    "\n",
    "a = datetime.now()"
   ]
  },
  {
   "cell_type": "code",
   "execution_count": 45,
   "metadata": {
    "collapsed": false
   },
   "outputs": [
    {
     "name": "stdout",
     "output_type": "stream",
     "text": [
      "0 0000000000000010\n",
      "1 0000000000010000\n",
      "2 0000000000100000\n",
      "3 0000001000000000\n",
      "4 0000000001000000\n",
      "5 0000000000000010\n",
      "6 0000000100000000\n",
      "7 0100000000000000\n"
     ]
    }
   ],
   "source": [
    "s = '00000000000000100000000000010000000000000010000000000010000000000000000001000000000000000000001000000001000000000100000000000000'\n",
    "len(s)\n",
    "for i in range(0, 128, 16):\n",
    "    print(i // 16, s[i:i+16])"
   ]
  },
  {
   "cell_type": "code",
   "execution_count": 37,
   "metadata": {
    "collapsed": false
   },
   "outputs": [
    {
     "name": "stdout",
     "output_type": "stream",
     "text": [
      "448\n",
      "0000000000000000000000000001000000000000000000000000000000000000\n",
      "0000000010000000000000000000000000000000000000000000000000000000\n"
     ]
    }
   ],
   "source": [
    "x = '0000000000000000000000000001000000000000000000000000000000000000000000000000000000000000000100000000000000000000000000000000000000000000000000000000000000000000000000000000000000001000000000000000000000001000000000000000000000000000000000000000000000000000001000000000000000000000000000000000000000000000000000000000000000000000000000000000000000000000100000000000000000000000000000000000000010000000000000000000000000000000000000000000000000000000'\n",
    "s = '000000100000000000000000000001000001000000000000100000000000000000000000100000000010000000000000'\n",
    "\n",
    "\n",
    "print(len(x))\n",
    "print(x[:64])\n",
    "#print(x[64:128])\n",
    "print(x[448-64:])\n",
    "\n",
    "for i in range(64,128):\n",
    "    if x[i] == '1':\n",
    "        #print(i - 64)\n",
    "        pass\n",
    "    "
   ]
  }
 ],
 "metadata": {
  "kernelspec": {
   "display_name": "Python 3",
   "language": "python",
   "name": "python3"
  },
  "language_info": {
   "codemirror_mode": {
    "name": "ipython",
    "version": 3
   },
   "file_extension": ".py",
   "mimetype": "text/x-python",
   "name": "python",
   "nbconvert_exporter": "python",
   "pygments_lexer": "ipython3",
   "version": "3.4.4"
  }
 },
 "nbformat": 4,
 "nbformat_minor": 1
}
