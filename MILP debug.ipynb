{
 "cells": [
  {
   "cell_type": "code",
   "execution_count": 46,
   "metadata": {
    "collapsed": true
   },
   "outputs": [],
   "source": [
    "x = '000000000000000000000000000100000000000000000000000000000000000000000000000000000000000000100000000000000000000000000000000000000000000000000000000000000000000000000100000000000000000000000000'\n",
    "q = '0000000000000100000000000000000000000000000000000001000000000000'\n",
    "i = '00000010000000000000000001000000'\n",
    "o = '00000010000000000000000001000000'\n"
   ]
  },
  {
   "cell_type": "code",
   "execution_count": 47,
   "metadata": {
    "collapsed": false
   },
   "outputs": [
    {
     "name": "stdout",
     "output_type": "stream",
     "text": [
      "6\n",
      "25\n",
      "\n",
      "27\n",
      "90\n",
      "165\n"
     ]
    }
   ],
   "source": [
    "find_ones(i)\n",
    "print()\n",
    "find_ones(x)"
   ]
  },
  {
   "cell_type": "code",
   "execution_count": 48,
   "metadata": {
    "collapsed": false
   },
   "outputs": [
    {
     "name": "stdout",
     "output_type": "stream",
     "text": [
      "0000000000000100000000000000000000000000000000000001000000000000\n",
      "13\n",
      "51\n"
     ]
    }
   ],
   "source": [
    "print(q)\n",
    "\n",
    "def find_ones(q):\n",
    "    for i in range(len(q)):\n",
    "        if q[i] == '1':\n",
    "            print(i)\n",
    "            \n",
    "find_ones(q)"
   ]
  },
  {
   "cell_type": "code",
   "execution_count": 43,
   "metadata": {
    "collapsed": false
   },
   "outputs": [
    {
     "name": "stdout",
     "output_type": "stream",
     "text": [
      "0001\n",
      "0010\n"
     ]
    }
   ],
   "source": [
    "print(x[6*4:7*4])\n",
    "print(x[88:92])"
   ]
  },
  {
   "cell_type": "code",
   "execution_count": 51,
   "metadata": {
    "collapsed": false,
    "scrolled": true
   },
   "outputs": [
    {
     "name": "stdout",
     "output_type": "stream",
     "text": [
      "0000000000000000000000000000000000000010000000000000000000000000\n",
      "38\n"
     ]
    }
   ],
   "source": [
    "perm =  [0,\t16,\t32,\t48,\t1,\t17,\t33,\t49,\t2,\t18,\t34,\t50,\t3,\t19,\t35,\t51]\n",
    "perm += [4,\t20,\t36,\t52,\t5,\t21,\t37,\t53,\t6,\t22,\t38,\t54,\t7,\t23,\t39,\t55]\n",
    "perm += [8,\t24,\t40,\t56,\t9,\t25,\t41,\t57,\t10,\t26,\t42,\t58,\t11,\t27,\t43,\t59]\n",
    "perm += [12, 28, 44, 60,\t13,\t29,\t45,\t61,\t14,\t30,\t46,\t62,\t15,\t31,\t47,\t63]\n",
    "\n",
    "def present_perm(i):\n",
    "    o =['0']*64\n",
    "    for x in range(64):\n",
    "        o[perm[x]] = i[x]\n",
    "    return ''.join(o)\n",
    "\n",
    "print(present_perm(x[64:128]))\n",
    "find_ones(present_perm(x[64:128]))"
   ]
  },
  {
   "cell_type": "code",
   "execution_count": 58,
   "metadata": {
    "collapsed": false
   },
   "outputs": [
    {
     "name": "stdout",
     "output_type": "stream",
     "text": [
      "0000000000000000\n",
      "0000001000000000\n",
      "0000000000000000\n",
      "0000000001000000\n",
      "9\n"
     ]
    }
   ],
   "source": [
    "print(q[:32:2])\n",
    "print(q[1:33:2])\n",
    "print(q[32::2])\n",
    "print(q[33::2])\n",
    "find_ones(q[33::2])"
   ]
  },
  {
   "cell_type": "code",
   "execution_count": 52,
   "metadata": {
    "collapsed": false
   },
   "outputs": [
    {
     "name": "stdout",
     "output_type": "stream",
     "text": [
      "0000000000000000000000000001000000000000000000000000000000000000\n",
      "0000000000000000000000000010000000000000000000000000000000000000\n",
      "0000000000000000000000000000000000000100000000000000000000000000\n",
      "26\n",
      "37\n"
     ]
    }
   ],
   "source": [
    "print(x[:64])\n",
    "print(x[64:128])\n",
    "print(x[128:])\n",
    "find_ones(x[64:128])\n",
    "find_ones(x[128:])"
   ]
  }
 ],
 "metadata": {
  "kernelspec": {
   "display_name": "Python 3",
   "language": "python",
   "name": "python3"
  },
  "language_info": {
   "codemirror_mode": {
    "name": "ipython",
    "version": 3
   },
   "file_extension": ".py",
   "mimetype": "text/x-python",
   "name": "python",
   "nbconvert_exporter": "python",
   "pygments_lexer": "ipython3",
   "version": "3.4.4"
  }
 },
 "nbformat": 4,
 "nbformat_minor": 1
}
